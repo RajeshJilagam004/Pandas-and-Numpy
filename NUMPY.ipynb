{
 "cells": [
  {
   "cell_type": "code",
   "execution_count": 729,
   "id": "1634bd6d-a166-4730-a3be-02d66f707fe5",
   "metadata": {},
   "outputs": [
    {
     "data": {
      "text/plain": [
       "array([[2, 4, 6],\n",
       "       [1, 2, 5],\n",
       "       [9, 7, 4]])"
      ]
     },
     "execution_count": 729,
     "metadata": {},
     "output_type": "execute_result"
    }
   ],
   "source": [
    "import numpy as np\n",
    "arr = np.genfromtxt('orders.csv', delimiter=',', skip_header=1)\t\n",
    "np.zeros((3, 3)), np.ones((2, 4))\n",
    "np.full((3, 3), 7)\n",
    "np.eye(3)\n",
    "np.linspace(0, 10, 5)\n",
    "np.arange(0, 10, 2)\n",
    "np.random.rand(3, 3), np.random.randn(3, 3)\n",
    "np.random.randint(0, 10, size=(3, 3))"
   ]
  },
  {
   "cell_type": "code",
   "execution_count": 739,
   "id": "1ae57c58-b53c-4bcb-aae0-9a61625bb67c",
   "metadata": {},
   "outputs": [
    {
     "data": {
      "text/plain": [
       "(array([[1, 2, 5, 6],\n",
       "        [3, 4, 7, 8]]),\n",
       " array([[1, 2],\n",
       "        [3, 4],\n",
       "        [5, 6],\n",
       "        [7, 8]]))"
      ]
     },
     "execution_count": 739,
     "metadata": {},
     "output_type": "execute_result"
    }
   ],
   "source": [
    "arr = np.array([[1, 2, 3], [4, 5, 6], [7, 8, 9]])\n",
    "shape = arr.shape \n",
    "arr.reshape(3, 3)\n",
    "arr.flatten()\n",
    "np.transpose(arr)\n",
    "arr1 = np.array([[1, 2], [3, 4]])\n",
    "arr2 = np.array([[5, 6], [7, 8]])\n",
    "np.concatenate((arr1, arr2), axis=0)\n",
    "np.hstack((arr1, arr2)), np.vstack((arr1, arr2))"
   ]
  },
  {
   "cell_type": "code",
   "execution_count": 681,
   "id": "f9b44650-399d-4bd3-bd74-e3aee8b4b77b",
   "metadata": {},
   "outputs": [
    {
     "data": {
      "text/plain": [
       "array([12, 15, 18])"
      ]
     },
     "execution_count": 681,
     "metadata": {},
     "output_type": "execute_result"
    }
   ],
   "source": [
    "np.add(arr1,arr2) / np.subtract(arr1,arr2)\n",
    "np.multiply(arr1,arr2) / np.divide(arr1,arr2)\n",
    "matrix1 = np.array([[1, 2], [3, 4]])\n",
    "matrix2 = np.array([[5, 6], [7, 8]])\n",
    "np.dot(matrix1, matrix2)\n",
    "np.sqrt(arr)\n",
    "np.exp(arr1) / np.log(arr2)\n",
    "np.power(arr, 2)\n",
    "np.mean(arr), np.median(arr), np.std(arr)\t\n",
    "np.sum(arr, axis=0)"
   ]
  },
  {
   "cell_type": "code",
   "execution_count": 682,
   "id": "4c1866e5-0c86-416b-a807-8e55bd238d72",
   "metadata": {},
   "outputs": [
    {
     "data": {
      "text/plain": [
       "array([ 2, 12])"
      ]
     },
     "execution_count": 682,
     "metadata": {},
     "output_type": "execute_result"
    }
   ],
   "source": [
    "arr = np.array([[1, 2, 3, 4],\n",
    "                [5, 6, 7, 8],\n",
    "                [9, 10, 11, 12]])\n",
    "arr[0], arr[1:3], arr[:, 1]\t\n",
    "arr[arr > 5]\t\n",
    "arr[[0, 2], [1, 3]]"
   ]
  },
  {
   "cell_type": "code",
   "execution_count": 683,
   "id": "6ec5f9e5-e649-4205-8d1e-7e1c74946882",
   "metadata": {},
   "outputs": [
    {
     "data": {
      "text/plain": [
       "12.0"
      ]
     },
     "execution_count": 683,
     "metadata": {},
     "output_type": "execute_result"
    }
   ],
   "source": [
    "arr = np.array([[1, 2, 3, 4],\n",
    "                [5, 6, 7, 8],\n",
    "                [9, 10, 11, 12]])\n",
    "np.sort(arr)\n",
    "np.argsort(arr)\n",
    "np.where(arr > 5)\n",
    "np.unique(arr)\n",
    "max_value = np.max(arr)\n",
    "min_value = np.min(arr)\n",
    "result = max_value / min_value\n",
    "result"
   ]
  },
  {
   "cell_type": "code",
   "execution_count": 684,
   "id": "483699c5-f5d1-472c-8a16-0c786630b753",
   "metadata": {},
   "outputs": [
    {
     "data": {
      "text/plain": [
       "array([[ 6,  7,  8,  9],\n",
       "       [10, 11, 12, 13],\n",
       "       [14, 15, 16, 17]])"
      ]
     },
     "execution_count": 684,
     "metadata": {},
     "output_type": "execute_result"
    }
   ],
   "source": [
    "#Perform operations on arrays of different shapes.\n",
    "arr + 5"
   ]
  },
  {
   "cell_type": "code",
   "execution_count": 685,
   "id": "29f21a1b-451a-4248-b22b-ce3e19ae03d7",
   "metadata": {},
   "outputs": [
    {
     "data": {
      "text/plain": [
       "array([2., 3.])"
      ]
     },
     "execution_count": 685,
     "metadata": {},
     "output_type": "execute_result"
    }
   ],
   "source": [
    "#Linear Algebra\n",
    "import numpy as np\n",
    "arr = np.array([[1, 2],\n",
    "                [3, 4]])\n",
    "np.linalg.inv(arr)\n",
    "np.linalg.det(arr)\n",
    "np.linalg.eig(arr)\n",
    "np.linalg.norm(arr)\n",
    "A = np.array([[3, 1], [1, 2]])\n",
    "B = np.array([9, 8])\n",
    "SOLUTION=np.linalg.solve(A,B)\n",
    "SOLUTION"
   ]
  },
  {
   "cell_type": "code",
   "execution_count": 686,
   "id": "48ba2960-2da6-40cf-93d4-0fa3da16cc40",
   "metadata": {},
   "outputs": [
    {
     "data": {
      "text/plain": [
       "array([[-1.34164079, -0.4472136 ],\n",
       "       [ 0.4472136 ,  1.34164079]])"
      ]
     },
     "execution_count": 686,
     "metadata": {},
     "output_type": "execute_result"
    }
   ],
   "source": [
    "#Data Preparation\n",
    "\n",
    "np.clip(arr, a_min=0, a_max=10)\n",
    "np.mean(arr) / np.std(arr)\n",
    "normalized = (arr - np.mean(arr)) / np.std(arr)\n",
    "normalized"
   ]
  },
  {
   "cell_type": "code",
   "execution_count": 687,
   "id": "2483cf7a-d311-4eb8-a6de-0666cca4f052",
   "metadata": {},
   "outputs": [],
   "source": [
    "#Random Sampling\n",
    "np.random.shuffle(arr)"
   ]
  },
  {
   "cell_type": "code",
   "execution_count": 731,
   "id": "f804d257-3ad2-4d5a-839d-1dc6dca3b210",
   "metadata": {},
   "outputs": [
    {
     "ename": "ValueError",
     "evalue": "Cannot load file containing pickled data when allow_pickle=False",
     "output_type": "error",
     "traceback": [
      "\u001b[1;31m---------------------------------------------------------------------------\u001b[0m",
      "\u001b[1;31mValueError\u001b[0m                                Traceback (most recent call last)",
      "Cell \u001b[1;32mIn[731], line 2\u001b[0m\n\u001b[0;32m      1\u001b[0m np\u001b[38;5;241m.\u001b[39msave(\u001b[38;5;124m'\u001b[39m\u001b[38;5;124morders.csv\u001b[39m\u001b[38;5;124m'\u001b[39m, arr)\n\u001b[1;32m----> 2\u001b[0m loaded \u001b[38;5;241m=\u001b[39m np\u001b[38;5;241m.\u001b[39mload(\u001b[38;5;124m'\u001b[39m\u001b[38;5;124morders.csv\u001b[39m\u001b[38;5;124m'\u001b[39m)\n\u001b[0;32m      3\u001b[0m \u001b[38;5;28mprint\u001b[39m(loaded)\n\u001b[0;32m      4\u001b[0m load\u001b[38;5;241m=\u001b[39mnp\u001b[38;5;241m.\u001b[39msavetxt(\u001b[38;5;124m'\u001b[39m\u001b[38;5;124morders.txt\u001b[39m\u001b[38;5;124m'\u001b[39m, arr, delimiter\u001b[38;5;241m=\u001b[39m\u001b[38;5;124m'\u001b[39m\u001b[38;5;124m,\u001b[39m\u001b[38;5;124m'\u001b[39m)\n",
      "File \u001b[1;32m~\\anaconda3\\Lib\\site-packages\\numpy\\lib\\npyio.py:462\u001b[0m, in \u001b[0;36mload\u001b[1;34m(file, mmap_mode, allow_pickle, fix_imports, encoding, max_header_size)\u001b[0m\n\u001b[0;32m    459\u001b[0m \u001b[38;5;28;01melse\u001b[39;00m:\n\u001b[0;32m    460\u001b[0m     \u001b[38;5;66;03m# Try a pickle\u001b[39;00m\n\u001b[0;32m    461\u001b[0m     \u001b[38;5;28;01mif\u001b[39;00m \u001b[38;5;129;01mnot\u001b[39;00m allow_pickle:\n\u001b[1;32m--> 462\u001b[0m         \u001b[38;5;28;01mraise\u001b[39;00m \u001b[38;5;167;01mValueError\u001b[39;00m(\u001b[38;5;124m\"\u001b[39m\u001b[38;5;124mCannot load file containing pickled data \u001b[39m\u001b[38;5;124m\"\u001b[39m\n\u001b[0;32m    463\u001b[0m                          \u001b[38;5;124m\"\u001b[39m\u001b[38;5;124mwhen allow_pickle=False\u001b[39m\u001b[38;5;124m\"\u001b[39m)\n\u001b[0;32m    464\u001b[0m     \u001b[38;5;28;01mtry\u001b[39;00m:\n\u001b[0;32m    465\u001b[0m         \u001b[38;5;28;01mreturn\u001b[39;00m pickle\u001b[38;5;241m.\u001b[39mload(fid, \u001b[38;5;241m*\u001b[39m\u001b[38;5;241m*\u001b[39mpickle_kwargs)\n",
      "\u001b[1;31mValueError\u001b[0m: Cannot load file containing pickled data when allow_pickle=False"
     ]
    }
   ],
   "source": [
    "np.save('data.npy', arr)\n",
    "loaded = np.load('data.npy')\n",
    "print(loaded)\n",
    "load=np.savetxt('data.txt', arr, delimiter=',')\n",
    "print(load)"
   ]
  },
  {
   "cell_type": "code",
   "execution_count": null,
   "id": "887d0687-06ad-4158-9861-89a48e809c8c",
   "metadata": {},
   "outputs": [],
   "source": []
  },
  {
   "cell_type": "code",
   "execution_count": 689,
   "id": "c8534988-6d1e-45d4-add2-d08d4e854117",
   "metadata": {},
   "outputs": [],
   "source": [
    "#PANDAS:"
   ]
  },
  {
   "cell_type": "code",
   "execution_count": 690,
   "id": "1998ec65-0d27-40f6-b482-df2b82d6db57",
   "metadata": {},
   "outputs": [
    {
     "name": "stdout",
     "output_type": "stream",
     "text": [
      "Original DataFrame:\n",
      "   ReviewID  ProductID  CustomerID  Rating\n",
      "0       301      201.0           1     5.0\n",
      "1       302      202.0           3     4.0\n",
      "2       303      203.0           2     3.0\n",
      "3       304      204.0           5   999.0\n",
      "4       305      999.0           4     5.0\n",
      "\n",
      "Missing Values (isnull):\n",
      "   ReviewID  ProductID  CustomerID  Rating\n",
      "0     False      False       False   False\n",
      "1     False      False       False   False\n",
      "2     False      False       False   False\n",
      "3     False      False       False    True\n",
      "4     False       True       False   False\n",
      "\n",
      "DataFrame with Missing Values Filled (0):\n",
      "   ReviewID  ProductID  CustomerID  Rating\n",
      "0       301      201.0           1     5.0\n",
      "1       302      202.0           3     4.0\n",
      "2       303      203.0           2     3.0\n",
      "3       304      204.0           5     0.0\n",
      "4       305        0.0           4     5.0\n",
      "\n",
      "DataFrame with Missing Values Filled (Mean):\n",
      "   ReviewID  ProductID  CustomerID  Rating\n",
      "0       301      201.0           1    5.00\n",
      "1       302      202.0           3    4.00\n",
      "2       303      203.0           2    3.00\n",
      "3       304      204.0           5    4.25\n",
      "4       305      202.5           4    5.00\n",
      "\n",
      "DataFrame with Missing Rows Dropped:\n",
      "   ReviewID  ProductID  CustomerID  Rating\n",
      "0       301      201.0           1     5.0\n",
      "1       302      202.0           3     4.0\n",
      "2       303      203.0           2     3.0\n",
      "\n",
      "DataFrame with Interpolated Values:\n",
      "   ReviewID  ProductID  CustomerID  Rating\n",
      "0       301      201.0           1     5.0\n",
      "1       302      202.0           3     4.0\n",
      "2       303      203.0           2     3.0\n",
      "3       304      204.0           5     4.0\n",
      "4       305      204.0           4     5.0\n"
     ]
    }
   ],
   "source": [
    "import pandas as pd\n",
    "import numpy as np\n",
    "df =pd.read_csv(r'C:\\Users\\Lenovo\\Documents\\ML\\NUMPY AND PANDAS PRACTICE\\reviews.csv')\n",
    "is_null = df.isnull()       \n",
    "not_null = df.notnull()    \n",
    "df_filled = df.fillna(0)     \n",
    "df_filled_mean = df.fillna(df.mean())\n",
    "df_dropped = df.dropna(axis=0)  \n",
    "df_interpolated = df.interpolate() \n",
    "df.fillna(value=999, inplace=True) \n",
    "print(\"Original DataFrame:\")\n",
    "print(df)\n",
    "print(\"\\nMissing Values (isnull):\")\n",
    "print(is_null)\n",
    "print(\"\\nDataFrame with Missing Values Filled (0):\")\n",
    "print(df_filled)\n",
    "print(\"\\nDataFrame with Missing Values Filled (Mean):\")\n",
    "print(df_filled_mean)\n",
    "print(\"\\nDataFrame with Missing Rows Dropped:\")\n",
    "print(df_dropped)\n",
    "print(\"\\nDataFrame with Interpolated Values:\")\n",
    "print(df_interpolated)\n"
   ]
  },
  {
   "cell_type": "code",
   "execution_count": 691,
   "id": "90cd5908-4d49-48ba-86de-b0ec0ef7fa5f",
   "metadata": {},
   "outputs": [
    {
     "data": {
      "text/plain": [
       "ProductID     201.0\n",
       "CustomerID      1.0\n",
       "Rating          5.0\n",
       "Name: 301, dtype: float64"
      ]
     },
     "execution_count": 691,
     "metadata": {},
     "output_type": "execute_result"
    }
   ],
   "source": [
    "\n",
    "df['ReviewID']\n",
    "df[['ReviewID', 'ProductID']]\n",
    "df.set_index('ReviewID', inplace=True)\n",
    "df.loc[301]\n"
   ]
  },
  {
   "cell_type": "code",
   "execution_count": 692,
   "id": "d78ad931-2372-4112-94f5-6808561c0250",
   "metadata": {},
   "outputs": [
    {
     "name": "stdout",
     "output_type": "stream",
     "text": [
      "   ReviewID  ProductID  CustomerID  Rating  new_col Age_group      1      2  \\\n",
      "0       301      201.0           1     5.0    502.0      High   True  False   \n",
      "1       302      202.0           3     4.0    504.0    Medium  False  False   \n",
      "2       303      203.0           2     3.0    506.0       Low  False   True   \n",
      "3       304      204.0           5     NaN    508.0       NaN  False  False   \n",
      "4       305        NaN           4     5.0      NaN      High  False  False   \n",
      "\n",
      "       3      4      5  \n",
      "0  False  False  False  \n",
      "1   True  False  False  \n",
      "2  False  False  False  \n",
      "3  False  False   True  \n",
      "4  False   True  False  \n"
     ]
    }
   ],
   "source": [
    "import pandas as pd\n",
    "import numpy as np\n",
    "df =pd.read_csv(r'C:\\Users\\Lenovo\\Documents\\ML\\NUMPY AND PANDAS PRACTICE\\reviews.csv')\n",
    "df['new_col'] = df['ReviewID'] + df['ProductID']\n",
    "df['Age_group'] = pd.cut(df['Rating'], bins=3, labels=['Low', 'Medium', 'High'])\n",
    "category_dummies =pd.get_dummies(df['CustomerID'])\n",
    "df = pd.concat([df, category_dummies], axis=1)\n",
    "print(df)\n"
   ]
  },
  {
   "cell_type": "code",
   "execution_count": 693,
   "id": "409d4e69-e178-4fb2-8fe3-69413c35147d",
   "metadata": {},
   "outputs": [
    {
     "data": {
      "text/html": [
       "<div>\n",
       "<style scoped>\n",
       "    .dataframe tbody tr th:only-of-type {\n",
       "        vertical-align: middle;\n",
       "    }\n",
       "\n",
       "    .dataframe tbody tr th {\n",
       "        vertical-align: top;\n",
       "    }\n",
       "\n",
       "    .dataframe thead th {\n",
       "        text-align: right;\n",
       "    }\n",
       "</style>\n",
       "<table border=\"1\" class=\"dataframe\">\n",
       "  <thead>\n",
       "    <tr style=\"text-align: right;\">\n",
       "      <th></th>\n",
       "      <th>ProductID</th>\n",
       "    </tr>\n",
       "    <tr>\n",
       "      <th>Rating</th>\n",
       "      <th></th>\n",
       "    </tr>\n",
       "  </thead>\n",
       "  <tbody>\n",
       "    <tr>\n",
       "      <th>3.0</th>\n",
       "      <td>203.0</td>\n",
       "    </tr>\n",
       "    <tr>\n",
       "      <th>4.0</th>\n",
       "      <td>202.0</td>\n",
       "    </tr>\n",
       "    <tr>\n",
       "      <th>5.0</th>\n",
       "      <td>201.0</td>\n",
       "    </tr>\n",
       "  </tbody>\n",
       "</table>\n",
       "</div>"
      ],
      "text/plain": [
       "        ProductID\n",
       "Rating           \n",
       "3.0         203.0\n",
       "4.0         202.0\n",
       "5.0         201.0"
      ]
     },
     "execution_count": 693,
     "metadata": {},
     "output_type": "execute_result"
    }
   ],
   "source": [
    "df =pd.read_csv(r'C:\\Users\\Lenovo\\Documents\\ML\\NUMPY AND PANDAS PRACTICE\\reviews.csv')\n",
    "df.groupby('CustomerID')['ReviewID'].sum()\n",
    "df.agg({'Rating': 'mean', 'ProductID': 'sum'})\n",
    "df.pivot_table(values='ProductID',index='Rating', aggfunc='sum')\n"
   ]
  },
  {
   "cell_type": "code",
   "execution_count": 694,
   "id": "df5952ea-a3d3-41cf-82b9-bf1796d78e5f",
   "metadata": {},
   "outputs": [
    {
     "name": "stdout",
     "output_type": "stream",
     "text": [
      "Merged DataFrame (Inner Join):\n",
      "   CustomerID     Name   Age         City  OrderID  Amount   OrderDate\n",
      "0           1    Alice  25.0     New York      101   250.5  2024-12-20\n",
      "1           2      Bob  30.0  Los Angeles      102   120.0  2024-12-21\n",
      "2           3  Charlie  35.0          NaN      103   320.0  2024-12-22\n",
      "3           4    David   NaN      Chicago      104     NaN  2024-12-23\n",
      "\n",
      "Joined DataFrame (Left Join):\n",
      "   CustomerID     Name   Age         City  OrderID  Amount   OrderDate\n",
      "0           1    Alice  25.0     New York    101.0   250.5  2024-12-20\n",
      "1           2      Bob  30.0  Los Angeles    102.0   120.0  2024-12-21\n",
      "2           3  Charlie  35.0          NaN    103.0   320.0  2024-12-22\n",
      "3           4    David   NaN      Chicago    104.0     NaN  2024-12-23\n",
      "4           5      Eve  45.0      Houston      NaN     NaN         NaN\n",
      "\n",
      "Concatenated DataFrame:\n",
      "   CustomerID     Name   Age         City  OrderID  Amount   OrderDate\n",
      "0         1.0    Alice  25.0     New York      NaN     NaN         NaN\n",
      "1         2.0      Bob  30.0  Los Angeles      NaN     NaN         NaN\n",
      "2         3.0  Charlie  35.0          NaN      NaN     NaN         NaN\n",
      "3         4.0    David   NaN      Chicago      NaN     NaN         NaN\n",
      "4         5.0      Eve  45.0      Houston      NaN     NaN         NaN\n",
      "0         1.0      NaN   NaN          NaN    101.0  250.50  2024-12-20\n",
      "1         2.0      NaN   NaN          NaN    102.0  120.00  2024-12-21\n",
      "2         3.0      NaN   NaN          NaN    103.0  320.00  2024-12-22\n",
      "3         4.0      NaN   NaN          NaN    104.0     NaN  2024-12-23\n",
      "4         NaN      NaN   NaN          NaN    105.0  150.75  2024-12-24\n"
     ]
    }
   ],
   "source": [
    "import pandas as pd\n",
    "df1 =pd.read_csv(r'C:\\Users\\Lenovo\\Documents\\ML\\NUMPY AND PANDAS PRACTICE\\customers.csv') \n",
    "df2 =pd.read_csv(r'C:\\Users\\Lenovo\\Documents\\ML\\NUMPY AND PANDAS PRACTICE\\orders.csv')\n",
    "merged_inner = pd.merge(df1, df2, on='CustomerID', how='inner')\n",
    "joined_left = df1.join(df2.set_index('CustomerID'), on='CustomerID', how='left')\n",
    "concatenated = pd.concat([df1, df2], axis=0)\n",
    "print(\"Merged DataFrame (Inner Join):\")\n",
    "print(merged_inner)\n",
    "print(\"\\nJoined DataFrame (Left Join):\")\n",
    "print(joined_left)\n",
    "print(\"\\nConcatenated DataFrame:\")\n",
    "print(concatenated)\n"
   ]
  },
  {
   "cell_type": "code",
   "execution_count": 695,
   "id": "b4c1f039-fc2d-456a-8f06-1b7c3bddb7e4",
   "metadata": {},
   "outputs": [
    {
     "data": {
      "text/html": [
       "<div>\n",
       "<style scoped>\n",
       "    .dataframe tbody tr th:only-of-type {\n",
       "        vertical-align: middle;\n",
       "    }\n",
       "\n",
       "    .dataframe tbody tr th {\n",
       "        vertical-align: top;\n",
       "    }\n",
       "\n",
       "    .dataframe thead th {\n",
       "        text-align: right;\n",
       "    }\n",
       "</style>\n",
       "<table border=\"1\" class=\"dataframe\">\n",
       "  <thead>\n",
       "    <tr style=\"text-align: right;\">\n",
       "      <th></th>\n",
       "      <th>ReviewID</th>\n",
       "      <th>ProductID</th>\n",
       "      <th>CustomerID</th>\n",
       "      <th>Rating</th>\n",
       "    </tr>\n",
       "  </thead>\n",
       "  <tbody>\n",
       "    <tr>\n",
       "      <th>0</th>\n",
       "      <td>301</td>\n",
       "      <td>201.0</td>\n",
       "      <td>1</td>\n",
       "      <td>5.0</td>\n",
       "    </tr>\n",
       "    <tr>\n",
       "      <th>1</th>\n",
       "      <td>302</td>\n",
       "      <td>202.0</td>\n",
       "      <td>3</td>\n",
       "      <td>4.0</td>\n",
       "    </tr>\n",
       "    <tr>\n",
       "      <th>2</th>\n",
       "      <td>303</td>\n",
       "      <td>203.0</td>\n",
       "      <td>2</td>\n",
       "      <td>3.0</td>\n",
       "    </tr>\n",
       "    <tr>\n",
       "      <th>3</th>\n",
       "      <td>304</td>\n",
       "      <td>204.0</td>\n",
       "      <td>5</td>\n",
       "      <td>NaN</td>\n",
       "    </tr>\n",
       "    <tr>\n",
       "      <th>4</th>\n",
       "      <td>305</td>\n",
       "      <td>NaN</td>\n",
       "      <td>4</td>\n",
       "      <td>5.0</td>\n",
       "    </tr>\n",
       "  </tbody>\n",
       "</table>\n",
       "</div>"
      ],
      "text/plain": [
       "   ReviewID  ProductID  CustomerID  Rating\n",
       "0       301      201.0           1     5.0\n",
       "1       302      202.0           3     4.0\n",
       "2       303      203.0           2     3.0\n",
       "3       304      204.0           5     NaN\n",
       "4       305        NaN           4     5.0"
      ]
     },
     "execution_count": 695,
     "metadata": {},
     "output_type": "execute_result"
    }
   ],
   "source": [
    "df.replace(np.nan, 400.00)\n",
    "df.apply(lambda x: x.strip() if isinstance(x, str) else x)\n",
    "df.drop_duplicates()\n",
    "df"
   ]
  },
  {
   "cell_type": "code",
   "execution_count": 696,
   "id": "384f4a82-ab40-46a4-a400-7fdec136fe4f",
   "metadata": {},
   "outputs": [
    {
     "data": {
      "text/html": [
       "<div>\n",
       "<style scoped>\n",
       "    .dataframe tbody tr th:only-of-type {\n",
       "        vertical-align: middle;\n",
       "    }\n",
       "\n",
       "    .dataframe tbody tr th {\n",
       "        vertical-align: top;\n",
       "    }\n",
       "\n",
       "    .dataframe thead th {\n",
       "        text-align: right;\n",
       "    }\n",
       "</style>\n",
       "<table border=\"1\" class=\"dataframe\">\n",
       "  <thead>\n",
       "    <tr style=\"text-align: right;\">\n",
       "      <th></th>\n",
       "      <th>Price</th>\n",
       "      <th>variable</th>\n",
       "      <th>value</th>\n",
       "    </tr>\n",
       "  </thead>\n",
       "  <tbody>\n",
       "    <tr>\n",
       "      <th>0</th>\n",
       "      <td>1200.0</td>\n",
       "      <td>ProductID</td>\n",
       "      <td>201</td>\n",
       "    </tr>\n",
       "    <tr>\n",
       "      <th>1</th>\n",
       "      <td>800.0</td>\n",
       "      <td>ProductID</td>\n",
       "      <td>202</td>\n",
       "    </tr>\n",
       "    <tr>\n",
       "      <th>2</th>\n",
       "      <td>400.0</td>\n",
       "      <td>ProductID</td>\n",
       "      <td>203</td>\n",
       "    </tr>\n",
       "    <tr>\n",
       "      <th>3</th>\n",
       "      <td>200.0</td>\n",
       "      <td>ProductID</td>\n",
       "      <td>204</td>\n",
       "    </tr>\n",
       "    <tr>\n",
       "      <th>4</th>\n",
       "      <td>NaN</td>\n",
       "      <td>ProductID</td>\n",
       "      <td>205</td>\n",
       "    </tr>\n",
       "    <tr>\n",
       "      <th>5</th>\n",
       "      <td>1200.0</td>\n",
       "      <td>ProductName</td>\n",
       "      <td>Laptop</td>\n",
       "    </tr>\n",
       "    <tr>\n",
       "      <th>6</th>\n",
       "      <td>800.0</td>\n",
       "      <td>ProductName</td>\n",
       "      <td>Smartphone</td>\n",
       "    </tr>\n",
       "    <tr>\n",
       "      <th>7</th>\n",
       "      <td>400.0</td>\n",
       "      <td>ProductName</td>\n",
       "      <td>Tablet</td>\n",
       "    </tr>\n",
       "    <tr>\n",
       "      <th>8</th>\n",
       "      <td>200.0</td>\n",
       "      <td>ProductName</td>\n",
       "      <td>Monitor</td>\n",
       "    </tr>\n",
       "    <tr>\n",
       "      <th>9</th>\n",
       "      <td>NaN</td>\n",
       "      <td>ProductName</td>\n",
       "      <td>Keyboard</td>\n",
       "    </tr>\n",
       "  </tbody>\n",
       "</table>\n",
       "</div>"
      ],
      "text/plain": [
       "    Price     variable       value\n",
       "0  1200.0    ProductID         201\n",
       "1   800.0    ProductID         202\n",
       "2   400.0    ProductID         203\n",
       "3   200.0    ProductID         204\n",
       "4     NaN    ProductID         205\n",
       "5  1200.0  ProductName      Laptop\n",
       "6   800.0  ProductName  Smartphone\n",
       "7   400.0  ProductName      Tablet\n",
       "8   200.0  ProductName     Monitor\n",
       "9     NaN  ProductName    Keyboard"
      ]
     },
     "execution_count": 696,
     "metadata": {},
     "output_type": "execute_result"
    }
   ],
   "source": [
    "df = pd.read_csv(r'C:\\Users\\Lenovo\\Documents\\ML\\NUMPY AND PANDAS PRACTICE\\products.csv')\n",
    "df.pivot(index='ProductID', columns='ProductName', values='Price')\n",
    "df.melt(id_vars=['Price'], value_vars=['ProductID', 'ProductName'])"
   ]
  },
  {
   "cell_type": "code",
   "execution_count": 697,
   "id": "68618eb4-e6f6-42cb-88da-33394eb9064d",
   "metadata": {
    "scrolled": true
   },
   "outputs": [
    {
     "name": "stdout",
     "output_type": "stream",
     "text": [
      "DataFrame Summary (Describe):\n",
      "       CustomerID        Age\n",
      "count    5.000000   4.000000\n",
      "mean     3.000000  33.750000\n",
      "std      1.581139   8.539126\n",
      "min      1.000000  25.000000\n",
      "25%      2.000000  28.750000\n",
      "50%      3.000000  32.500000\n",
      "75%      4.000000  37.500000\n",
      "max      5.000000  45.000000\n",
      "\n",
      "Correlation Matrix:\n",
      "            CustomerID  Age\n",
      "CustomerID         1.0  1.0\n",
      "Age                1.0  1.0\n",
      "\n",
      "Value Counts for 'Age':\n",
      "CustomerID\n",
      "1    1\n",
      "2    1\n",
      "3    1\n",
      "4    1\n",
      "5    1\n",
      "Name: count, dtype: int64\n"
     ]
    }
   ],
   "source": [
    "import pandas as pd\n",
    "df = pd.read_csv(r'C:\\Users\\Lenovo\\Documents\\ML\\NUMPY AND PANDAS PRACTICE\\customers.csv')\n",
    "description = df.describe()\n",
    "numeric_df = df.select_dtypes(include=[float, int])\n",
    "correlation = numeric_df.corr()\n",
    "value_counts_col = df['CustomerID'].value_counts()\n",
    "print(\"DataFrame Summary (Describe):\")\n",
    "print(description)\n",
    "print(\"\\nCorrelation Matrix:\")\n",
    "print(correlation)\n",
    "print(\"\\nValue Counts for 'Age':\")\n",
    "print(value_counts_col)\n"
   ]
  },
  {
   "cell_type": "code",
   "execution_count": 698,
   "id": "19c249a6-c605-4e87-b74b-79590417323a",
   "metadata": {
    "scrolled": true
   },
   "outputs": [
    {
     "name": "stdout",
     "output_type": "stream",
     "text": [
      "   ReviewID  ProductID  CustomerID  Rating       col\n",
      "0       301      201.0           1     5.0  5.710427\n",
      "1       302      202.0           3     4.0  5.713733\n",
      "2       303      203.0           2     3.0  5.717028\n",
      "3       304      204.0           5     NaN  5.720312\n",
      "4       305        NaN           4     5.0  5.723585\n"
     ]
    }
   ],
   "source": [
    "import pandas as pd\n",
    "df = pd.read_csv(r'C:\\Users\\Lenovo\\Documents\\ML\\NUMPY AND PANDAS PRACTICE\\reviews.csv')\n",
    "df['col'] = (df['ReviewID'] - df['ReviewID'].mean()) / df['ReviewID'].std()\n",
    "df['col'] = df['ReviewID'].apply(np.log1p)\n",
    "print(df)"
   ]
  },
  {
   "cell_type": "code",
   "execution_count": 699,
   "id": "a28dfece-e30a-4987-9edf-98684fe7c4e8",
   "metadata": {},
   "outputs": [
    {
     "name": "stdout",
     "output_type": "stream",
     "text": [
      "            OrderID  CustomerID  Amount\n",
      "OrderDate                              \n",
      "2024-12-31      515        10.0  841.25\n"
     ]
    }
   ],
   "source": [
    "import pandas as pd\n",
    "df = pd.read_csv(r'C:\\Users\\Lenovo\\Documents\\ML\\NUMPY AND PANDAS PRACTICE\\orders.csv')\n",
    "df['OrderDate'] = pd.to_datetime(df['OrderDate'])\n",
    "df.set_index('OrderDate', inplace=True)\n",
    "monthly_sum = df.resample('ME').sum()\n",
    "print(monthly_sum)\n"
   ]
  },
  {
   "cell_type": "code",
   "execution_count": 700,
   "id": "915dcace-9758-4663-9c89-a6efe4ba45e7",
   "metadata": {},
   "outputs": [
    {
     "data": {
      "text/html": [
       "<div>\n",
       "<style scoped>\n",
       "    .dataframe tbody tr th:only-of-type {\n",
       "        vertical-align: middle;\n",
       "    }\n",
       "\n",
       "    .dataframe tbody tr th {\n",
       "        vertical-align: top;\n",
       "    }\n",
       "\n",
       "    .dataframe thead th {\n",
       "        text-align: right;\n",
       "    }\n",
       "</style>\n",
       "<table border=\"1\" class=\"dataframe\">\n",
       "  <thead>\n",
       "    <tr style=\"text-align: right;\">\n",
       "      <th></th>\n",
       "      <th>OrderID</th>\n",
       "      <th>CustomerID</th>\n",
       "      <th>Amount</th>\n",
       "    </tr>\n",
       "    <tr>\n",
       "      <th>OrderDate</th>\n",
       "      <th></th>\n",
       "      <th></th>\n",
       "      <th></th>\n",
       "    </tr>\n",
       "  </thead>\n",
       "  <tbody>\n",
       "    <tr>\n",
       "      <th>2024-12-20</th>\n",
       "      <td>101</td>\n",
       "      <td>1.0</td>\n",
       "      <td>250.50</td>\n",
       "    </tr>\n",
       "    <tr>\n",
       "      <th>2024-12-21</th>\n",
       "      <td>102</td>\n",
       "      <td>2.0</td>\n",
       "      <td>120.00</td>\n",
       "    </tr>\n",
       "    <tr>\n",
       "      <th>2024-12-22</th>\n",
       "      <td>103</td>\n",
       "      <td>3.0</td>\n",
       "      <td>320.00</td>\n",
       "    </tr>\n",
       "    <tr>\n",
       "      <th>2024-12-23</th>\n",
       "      <td>104</td>\n",
       "      <td>4.0</td>\n",
       "      <td>NaN</td>\n",
       "    </tr>\n",
       "    <tr>\n",
       "      <th>2024-12-24</th>\n",
       "      <td>105</td>\n",
       "      <td>NaN</td>\n",
       "      <td>150.75</td>\n",
       "    </tr>\n",
       "  </tbody>\n",
       "</table>\n",
       "</div>"
      ],
      "text/plain": [
       "            OrderID  CustomerID  Amount\n",
       "OrderDate                              \n",
       "2024-12-20      101         1.0  250.50\n",
       "2024-12-21      102         2.0  120.00\n",
       "2024-12-22      103         3.0  320.00\n",
       "2024-12-23      104         4.0     NaN\n",
       "2024-12-24      105         NaN  150.75"
      ]
     },
     "execution_count": 700,
     "metadata": {},
     "output_type": "execute_result"
    }
   ],
   "source": [
    "df.to_csv('orders.csv',index=False)\n",
    "pd.read_csv('orders.csv')\n",
    "df.to_excel('orders.xlsx',index=False)\n",
    "df"
   ]
  },
  {
   "cell_type": "code",
   "execution_count": null,
   "id": "498d0ca3-9af3-4d09-9a37-26fef322e1e9",
   "metadata": {},
   "outputs": [],
   "source": []
  }
 ],
 "metadata": {
  "kernelspec": {
   "display_name": "Python 3 (ipykernel)",
   "language": "python",
   "name": "python3"
  },
  "language_info": {
   "codemirror_mode": {
    "name": "ipython",
    "version": 3
   },
   "file_extension": ".py",
   "mimetype": "text/x-python",
   "name": "python",
   "nbconvert_exporter": "python",
   "pygments_lexer": "ipython3",
   "version": "3.12.7"
  }
 },
 "nbformat": 4,
 "nbformat_minor": 5
}
